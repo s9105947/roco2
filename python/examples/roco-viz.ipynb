{
 "cells": [
  {
   "cell_type": "code",
   "execution_count": 1,
   "metadata": {},
   "outputs": [],
   "source": [
    "import os\n",
    "from glob import glob\n",
    "\n",
    "import pandas as pd\n",
    "import numpy as np\n",
    "import matplotlib as mpl\n",
    "import matplotlib.pyplot as plt\n",
    "    \n",
    "from IPython.display import Markdown, display\n",
    "from ipywidgets import interact, interactive, fixed\n",
    "import ipywidgets as widgets\n",
    "\n",
    "from sklearn.linear_model import Ridge\n",
    "from sklearn.preprocessing import PolynomialFeatures\n",
    "from sklearn.pipeline import make_pipeline\n",
    "\n",
    "import sys\n",
    "sys.path.append('/Users/mario/repos/roco2/python')\n",
    "from roco2 import color, marker, plot, Kernel"
   ]
  },
  {
   "cell_type": "code",
   "execution_count": 2,
   "metadata": {},
   "outputs": [],
   "source": [
    "%matplotlib inline\n",
    "import pylab\n",
    "pylab.rcParams['figure.figsize'] = (20,10)\n",
    "pylab.rcParams['font.size'] = 20\n",
    "pylab.rcParams['legend.fontsize'] = 20\n",
    "def printmd(string):\n",
    "    display(Markdown(string))"
   ]
  },
  {
   "cell_type": "code",
   "execution_count": 3,
   "metadata": {},
   "outputs": [],
   "source": [
    "def old_kernel(n):\n",
    "    return {\n",
    "        0: Kernel.idle,\n",
    "        1: Kernel.sine,\n",
    "        2: Kernel.busywait,\n",
    "        3: Kernel.memory,\n",
    "        4: Kernel.compute,\n",
    "        5: Kernel.mulpd,\n",
    "        7: Kernel.matmul,\n",
    "        8: Kernel.sqrt,\n",
    "        9: Kernel.idle,\n",
    "        10: Kernel.addpd,\n",
    "        42: Kernel.firestarter\n",
    "    }[n]\n"
   ]
  },
  {
   "cell_type": "code",
   "execution_count": 4,
   "metadata": {},
   "outputs": [
    {
     "data": {
      "application/vnd.jupyter.widget-view+json": {
       "model_id": "b0290410b70548f6850097f4728e4132",
       "version_major": 2,
       "version_minor": 0
      },
      "text/plain": [
       "interactive(children=(Dropdown(description='filename', options=('./phase_profile.tsv',), value='./phase_profil…"
      ]
     },
     "metadata": {},
     "output_type": "display_data"
    }
   ],
   "source": [
    "pp_dir = '.'\n",
    "filenames = sorted(glob(pp_dir + os.path.sep + '*.tsv'))\n",
    "filename_widget = widgets.Dropdown(options=filenames)\n",
    "power_patterns = {\n",
    "    'occ_power_system_from_energy': 'OCC: Bulk power of system',\n",
    "    'taurus.taurusml8.power': 'PSU: bulk power of system'\n",
    "}\n",
    "pattern_x_widget = widgets.Dropdown(options=tuple(power_patterns.keys()))\n",
    "pattern_y_widget = widgets.Dropdown(options=tuple(power_patterns.keys()))\n",
    "\n",
    "def update_filename(*args):\n",
    "    if filename_widget.value is not None:\n",
    "        tmp = pd.read_csv(filename_widget.value, sep='\\t', quotechar=\"'\")\n",
    "        opt = tuple(filter(lambda pattern: len(tmp.filter(regex=pattern).columns) > 0, power_patterns.keys()))\n",
    "        pattern_x_widget.options = opt\n",
    "        pattern_y_widget.options = opt\n",
    "    \n",
    "filename_widget.observe(update_filename, 'value')\n",
    "update_filename()\n",
    "\n",
    "label_x = None\n",
    "label_y = None\n",
    "def read_phase_profile(filename, pattern_x, pattern_y):\n",
    "    global experiments, label_x, label_y, experiment_basename\n",
    "    experiments = pd.read_csv(filename, sep='\\t', quotechar=\"'\")\n",
    "    experiment_basename = os.path.splitext(os.path.basename(filename))[0]\n",
    "    printmd(\"### Number of experiments in {}: {}\".format(experiment_basename, len(experiments)))\n",
    "        \n",
    "    label_x = power_patterns[pattern_x]\n",
    "    label_y = power_patterns[pattern_y]\n",
    "    power_x_columns = experiments.filter(regex=pattern_x)\n",
    "    power_y_columns = experiments.filter(regex=pattern_y)\n",
    "    printmd(\"### Using X-{} power metrics: {} [{}]\" \\\n",
    "            .format(label_x, pattern_x, ', '.join(power_x_columns.columns.values)))\n",
    "    printmd(\"### Using Y-{} power metrics: {} [{}]\" \\\n",
    "            .format(label_y, pattern_y, ', '.join(power_y_columns.columns.values)))\n",
    "\n",
    "    if experiments.experiment.max() == 42:\n",
    "        experiments['kernel'] = experiments.experiment.apply(old_kernel)\n",
    "    else:\n",
    "        experiments['kernel'] = experiments.experiment.apply(Kernel)\n",
    "        \n",
    "    experiments['power_x'] = power_x_columns.sum(1)\n",
    "    experiments['power_y'] = power_y_columns.sum(1)\n",
    "    #experiments['power_x'] = (experiments['x86_energy/PACKAGE0/P'] + experiments['x86_energy/PACKAGE1/P'] + 0.25 * (experiments['x86_energy/DRAM0/P'] + experiments['x86_energy/DRAM1/P']) ) /1000\n",
    "    experiments['frequency_mhz'] = (experiments['frequency'] / 1e6).astype(int)\n",
    "    \n",
    "    printmd('### Experiment duration: {:.1f} s'.format((experiments.end - experiments.begin).mean() / 1e12))\n",
    "    \n",
    "    printmd('### Kernels:')\n",
    "    printmd('\\n'.join([' * {}'.format(x) for x in experiments.kernel.unique()]))\n",
    "\n",
    "    printmd('### Frequencies:')\n",
    "    printmd('\\n'.join([' * {}'.format(x) for x in experiments.frequency_mhz.unique()]))\n",
    "    \n",
    "    printmd('### Thread counts:')\n",
    "    printmd('\\n'.join([' * {}'.format(x) for x in experiments.thread_count.unique()]))\n",
    "    \n",
    "    printmd('### DDCM settings:')\n",
    "    printmd('\\n'.join([' * {}'.format(x) for x in sorted(experiments.ddcm.unique())]))\n",
    "    \n",
    "\n",
    "i = interact(read_phase_profile, filename=filename_widget,\n",
    "             pattern_x=pattern_x_widget, pattern_y=pattern_y_widget)"
   ]
  },
  {
   "cell_type": "code",
   "execution_count": 22,
   "metadata": {},
   "outputs": [
    {
     "data": {
      "application/vnd.jupyter.widget-view+json": {
       "model_id": "4472ca4c651f4553907458448d1cc1f7",
       "version_major": 2,
       "version_minor": 0
      },
      "text/plain": [
       "interactive(children=(IntSlider(value=2, description='dim', max=3, min=1), Output()), _dom_classes=('widget-in…"
      ]
     },
     "metadata": {},
     "output_type": "display_data"
    },
    {
     "data": {
      "text/plain": [
       "<function __main__.fit(dim)>"
      ]
     },
     "execution_count": 22,
     "metadata": {},
     "output_type": "execute_result"
    }
   ],
   "source": [
    "from collections import defaultdict\n",
    "def fit(dim):\n",
    "    global model, model_name\n",
    "    model = make_pipeline(PolynomialFeatures(dim), Ridge())\n",
    "    model.fit(experiments.power_x.reshape(-1, 1), experiments.power_y)\n",
    "    names = {\n",
    "        1: 'linear',\n",
    "        2: 'quadratic',\n",
    "        3: 'cubic'\n",
    "    }\n",
    "    model_name = names[dim]\n",
    "\n",
    "    params = mpl.rc_params()\n",
    "    params['font.size'] = 13\n",
    "    params['legend.fontsize'] = params['font.size']\n",
    "    params['figure.figsize'] = (10,6)\n",
    "    \n",
    "    with mpl.rc_context(params):\n",
    "        for kernel, k_group in experiments.groupby('kernel'):\n",
    "            plt.plot(k_group.power_x, k_group.power_y, color=kernel.color, marker=kernel.marker, ls='', label=kernel.name)\n",
    "\n",
    "        x_min, x_max = plt.gca().get_xlim()\n",
    "        x_plot = np.linspace(x_min, x_max, 100)\n",
    "\n",
    "        plt.plot(x_plot, model.predict(x_plot.reshape(-1,1)), ls=':', color='black', label='{} fit'.format(model_name))\n",
    "        plt.xlabel(label_x)\n",
    "        plt.ylabel(label_y)\n",
    "        plot.ideal(x_max, ls='-', color='gray', label='identity')\n",
    "        \n",
    "        plt.gca().set_xlim(xmin=0)\n",
    "        plt.gca().set_ylim(ymin=0)\n",
    "        plt.legend(loc='best', numpoints=1, fontsize=params['font.size'], ncol=2)\n",
    "\n",
    "        plot.make_pdf(experiment_basename)\n",
    "        \n",
    "        plt.show()\n",
    "    \n",
    "interact(fit, dim=(1,3))"
   ]
  },
  {
   "cell_type": "code",
   "execution_count": null,
   "metadata": {
    "collapsed": true
   },
   "outputs": [],
   "source": []
  }
 ],
 "metadata": {
  "kernelspec": {
   "display_name": "Python 3",
   "language": "python",
   "name": "python3"
  },
  "language_info": {
   "codemirror_mode": {
    "name": "ipython",
    "version": 3
   },
   "file_extension": ".py",
   "mimetype": "text/x-python",
   "name": "python",
   "nbconvert_exporter": "python",
   "pygments_lexer": "ipython3",
   "version": "3.9.2"
  }
 },
 "nbformat": 4,
 "nbformat_minor": 1
}
